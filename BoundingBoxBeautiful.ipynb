{
  "nbformat": 4,
  "nbformat_minor": 0,
  "metadata": {
    "colab": {
      "name": "BoundingBoxBeautiful.ipynb",
      "provenance": [],
      "collapsed_sections": []
    },
    "kernelspec": {
      "name": "python3",
      "display_name": "Python 3"
    }
  },
  "cells": [
    {
      "cell_type": "markdown",
      "metadata": {
        "id": "P-qvY7KAJWSn"
      },
      "source": [
        "# Creating a more elegant bounding box"
      ]
    },
    {
      "cell_type": "code",
      "metadata": {
        "id": "3X_Ruls31Qa0"
      },
      "source": [
        "import cv2\n",
        "import numpy as np\n",
        "\n",
        "from google.colab.patches import cv2_imshow"
      ],
      "execution_count": 1,
      "outputs": []
    },
    {
      "cell_type": "code",
      "metadata": {
        "id": "fW9thx2JFQM0"
      },
      "source": [
        "def draw_bbox(img, coord1, coord2, color1=(6, 253, 2), color2=(4,230,1), r=5, d=5, thickness=1):\n",
        "    x1, y1 = coord1\n",
        "    x2, y2 = coord2\n",
        "\n",
        "    if color2 is not None:\n",
        "        # Top left\n",
        "        cv2.line(img, (x1 + r, y1), (x1 + r + d, y1), color2, thickness+1)\n",
        "        cv2.line(img, (x1, y1 + r), (x1, y1 + r + d), color2, thickness+1)\n",
        "        cv2.ellipse(img, (x1 + r, y1 + r), (r, r), 180, 0, 90, color2, thickness+1)\n",
        "\n",
        "        # Top right\n",
        "        cv2.line(img, (x2 - r, y1), (x2 - r - d, y1), color2, thickness+1)\n",
        "        cv2.line(img, (x2, y1 + r), (x2, y1 + r + d), color2, thickness+1)\n",
        "        cv2.ellipse(img, (x2 - r, y1 + r), (r, r), 270, 0, 90, color2, thickness+1)\n",
        "\n",
        "        # Bottom left\n",
        "        cv2.line(img, (x1 + r, y2), (x1 + r + d, y2), color2, thickness+1)\n",
        "        cv2.line(img, (x1, y2 - r), (x1, y2 - r - d), color2, thickness+1)\n",
        "        cv2.ellipse(img, (x1 + r, y2 - r), (r, r), 90, 0, 90, color2, thickness+1)\n",
        "\n",
        "        # Bottom right\n",
        "        cv2.line(img, (x2 - r, y2), (x2 - r - d, y2), color2, thickness+1)\n",
        "        cv2.line(img, (x2, y2 - r), (x2, y2 - r - d), color2, thickness+1)\n",
        "        cv2.ellipse(img, (x2 - r, y2 - r), (r, r), 0, 0, 90, color2, thickness+1)\n",
        "\n",
        "    # Top left\n",
        "    cv2.line(img, (x1 + r, y1), (x1 + r + d, y1), color1, thickness)\n",
        "    cv2.line(img, (x1, y1 + r), (x1, y1 + r + d), color1, thickness)\n",
        "    cv2.ellipse(img, (x1 + r, y1 + r), (r, r), 180, 0, 90, color1, thickness)\n",
        "\n",
        "    # Top right\n",
        "    cv2.line(img, (x2 - r, y1), (x2 - r - d, y1), color1, thickness)\n",
        "    cv2.line(img, (x2, y1 + r), (x2, y1 + r + d), color1, thickness)\n",
        "    cv2.ellipse(img, (x2 - r, y1 + r), (r, r), 270, 0, 90, color1, thickness)\n",
        "\n",
        "    # Bottom left\n",
        "    cv2.line(img, (x1 + r, y2), (x1 + r + d, y2), color1, thickness)\n",
        "    cv2.line(img, (x1, y2 - r), (x1, y2 - r - d), color1, thickness)\n",
        "    cv2.ellipse(img, (x1 + r, y2 - r), (r, r), 90, 0, 90, color1, thickness)\n",
        "\n",
        "    # Bottom right\n",
        "    cv2.line(img, (x2 - r, y2), (x2 - r - d, y2), color1, thickness)\n",
        "    cv2.line(img, (x2, y2 - r), (x2, y2 - r - d), color1, thickness)\n",
        "    cv2.ellipse(img, (x2 - r, y2 - r), (r, r), 0, 0, 90, color1, thickness)\n",
        "\n",
        "    return img"
      ],
      "execution_count": 73,
      "outputs": []
    },
    {
      "cell_type": "code",
      "metadata": {
        "id": "YwOxnON412ol",
        "outputId": "43b37a14-73c5-4b40-d717-cfa496801a1e",
        "colab": {
          "base_uri": "https://localhost:8080/",
          "height": 157
        }
      },
      "source": [
        "img = np.ones((140, 105, 3), np.uint8)*255\n",
        "\n",
        "img = draw_bbox(img, (5,5), (100,30), color1=(6, 253, 2), color2=(4,230,1), r=5, d=4, thickness=1)\n",
        "\n",
        "img = draw_bbox(img, (5,40), (100, 65), color1=(6, 253, 2), color2=None, r=5, d=4, thickness=1)\n",
        "\n",
        "img = draw_bbox(img, (5,75), (100,100), color1=(255,186,143), color2=(205,80,42), r=5, d=4, thickness=1)\n",
        "\n",
        "img = draw_bbox(img, (5,110), (100,135), color1=(109,114,210), color2=(10,2,122), r=5, d=4, thickness=1)\n",
        "\n",
        "cv2_imshow(img)"
      ],
      "execution_count": 121,
      "outputs": [
        {
          "output_type": "display_data",
          "data": {
            "image/png": "[encoded data removed]",
            "text/plain": [
              "<PIL.Image.Image image mode=RGB size=105x140 at 0x7F153A24BCC0>"
            ]
          },
          "metadata": {
            "tags": []
          }
        }
      ]
    }
  ]
}